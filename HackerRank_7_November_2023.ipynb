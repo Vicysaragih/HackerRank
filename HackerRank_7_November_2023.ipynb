{
  "nbformat": 4,
  "nbformat_minor": 0,
  "metadata": {
    "colab": {
      "provenance": [],
      "authorship_tag": "ABX9TyMtkYLO0E4CuSwOK87fYDxQ",
      "include_colab_link": true
    },
    "kernelspec": {
      "name": "python3",
      "display_name": "Python 3"
    },
    "language_info": {
      "name": "python"
    }
  },
  "cells": [
    {
      "cell_type": "markdown",
      "metadata": {
        "id": "view-in-github",
        "colab_type": "text"
      },
      "source": [
        "<a href=\"https://colab.research.google.com/github/Vicysaragih/HackerRank/blob/main/HackerRank_7_November_2023.ipynb\" target=\"_parent\"><img src=\"https://colab.research.google.com/assets/colab-badge.svg\" alt=\"Open In Colab\"/></a>"
      ]
    },
    {
      "cell_type": "markdown",
      "source": [
        "**FIND A STRING**"
      ],
      "metadata": {
        "id": "lPYwfLb1mT3Q"
      }
    },
    {
      "cell_type": "code",
      "execution_count": 3,
      "metadata": {
        "colab": {
          "base_uri": "https://localhost:8080/"
        },
        "id": "r7tMukfslOjb",
        "outputId": "d4201f47-39f2-49b8-f861-f39f4110c79e"
      },
      "outputs": [
        {
          "output_type": "stream",
          "name": "stdout",
          "text": [
            "ABCDCDC\n",
            "CDC\n",
            "2\n"
          ]
        }
      ],
      "source": [
        "# Untuk mencari ada berapa banyak jumlah string baris kedua di baris pertama\n",
        "# Cara 1\n",
        "def count_substring(string, sub_string):\n",
        "    count = 0\n",
        "    for pos, i in enumerate(string):\n",
        "        count += 1 if string[pos:].startswith(sub_string) else 0\n",
        "    return count\n",
        "\n",
        "\n",
        "if __name__ == '__main__':\n",
        "    string = input().strip()\n",
        "    sub_string = input().strip()\n",
        "\n",
        "    count = count_substring(string, sub_string)\n",
        "    print(count)"
      ]
    },
    {
      "cell_type": "code",
      "source": [
        "def count_substring(string, sub_string):\n",
        "    count = 0\n",
        "    for pos, i in enumerate(string):\n",
        "        count += 1 if string[pos:].startswith(sub_string) else 0\n",
        "    return count\n",
        "\n",
        "\n",
        "if __name__ == '__main__':\n",
        "    string = input().strip()\n",
        "    sub_string = input().strip()\n",
        "\n",
        "    count = count_substring(string, sub_string)\n",
        "    print(count)"
      ],
      "metadata": {
        "colab": {
          "base_uri": "https://localhost:8080/"
        },
        "id": "UXFllT7UnOlu",
        "outputId": "dc5e3462-3911-4994-dfa7-73503d7eb292"
      },
      "execution_count": 4,
      "outputs": [
        {
          "output_type": "stream",
          "name": "stdout",
          "text": [
            "SARAGIH\n",
            "RAGIH\n",
            "1\n"
          ]
        }
      ]
    },
    {
      "cell_type": "code",
      "source": [
        "def count_substring(string, sub_string):\n",
        "    count = 0\n",
        "    for pos, i in enumerate(string):\n",
        "        count += 1 if string[pos:].startswith(sub_string) else 0\n",
        "    return count\n",
        "\n",
        "\n",
        "if __name__ == '__main__':\n",
        "    string = input().strip()\n",
        "    sub_string = input().strip()\n",
        "\n",
        "    count = count_substring(string, sub_string)\n",
        "    print(count)"
      ],
      "metadata": {
        "colab": {
          "base_uri": "https://localhost:8080/"
        },
        "id": "WrPrEE_tncq5",
        "outputId": "6c6dfaa0-16b4-43bd-9483-c4693c3907ce"
      },
      "execution_count": 5,
      "outputs": [
        {
          "output_type": "stream",
          "name": "stdout",
          "text": [
            "FGFGTYFG\n",
            "FG\n",
            "3\n"
          ]
        }
      ]
    },
    {
      "cell_type": "code",
      "source": [
        "# Cara 2\n",
        "def count_substring(string, sub_string):\n",
        "  count = 0\n",
        "  for i in range(0, len(string)):\n",
        "    if string[i:i + len(sub_string)] == sub_string:\n",
        "      count+=1\n",
        "  return count\n",
        "\n",
        "if __name__ == '__main__':\n",
        "    string = input().strip()\n",
        "    sub_string = input().strip()\n",
        "\n",
        "    count = count_substring(string, sub_string)\n",
        "    print(count)"
      ],
      "metadata": {
        "colab": {
          "base_uri": "https://localhost:8080/"
        },
        "id": "IqG4h5Jjm8K4",
        "outputId": "fc1835da-e13e-49dd-94a7-0dd24be6d398"
      },
      "execution_count": 2,
      "outputs": [
        {
          "output_type": "stream",
          "name": "stdout",
          "text": [
            "ABCDCDC\n",
            "CDC\n",
            "2\n"
          ]
        }
      ]
    },
    {
      "cell_type": "code",
      "source": [
        "# Cara 3\n",
        "# String ==> ABCDCDC\n",
        "# Index  ==> 0123456\n",
        "# akan check sesuai len (slice) sub_string yaitu per 3 karakter\n",
        "\n",
        "def count_substring(string, sub_string): # String = ABCDCDC, subs_string = CDC\n",
        "  count = 0\n",
        "  l = len(sub_string) # ==> CDC = 3\n",
        "  for i in range(len(string)):\n",
        "    s = string[i : i + l] # ==> 0 : 0 + 3 => 0:3 => Mulai index 0 sampai index 2\n",
        "    if s == sub_string:\n",
        "      count +=1\n",
        "\n",
        "  return count\n",
        "\n",
        "if __name__ == '__main__':\n",
        "    string = input().strip()\n",
        "    sub_string = input().strip()\n",
        "\n",
        "    count = count_substring(string, sub_string)\n",
        "    print(count)"
      ],
      "metadata": {
        "colab": {
          "base_uri": "https://localhost:8080/"
        },
        "id": "moDNm-9jygQD",
        "outputId": "70c9d67c-09ab-4b9f-91c9-b580ad331672"
      },
      "execution_count": 12,
      "outputs": [
        {
          "output_type": "stream",
          "name": "stdout",
          "text": [
            "ABCDCDC\n",
            "CDC\n",
            "2\n"
          ]
        }
      ]
    }
  ]
}