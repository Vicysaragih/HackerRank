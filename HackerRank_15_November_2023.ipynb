{
  "nbformat": 4,
  "nbformat_minor": 0,
  "metadata": {
    "colab": {
      "provenance": [],
      "authorship_tag": "ABX9TyM/ePbnEDR/hdEw1th+T4xN",
      "include_colab_link": true
    },
    "kernelspec": {
      "name": "python3",
      "display_name": "Python 3"
    },
    "language_info": {
      "name": "python"
    }
  },
  "cells": [
    {
      "cell_type": "markdown",
      "metadata": {
        "id": "view-in-github",
        "colab_type": "text"
      },
      "source": [
        "<a href=\"https://colab.research.google.com/github/Vicysaragih/HackerRank/blob/main/HackerRank_15_November_2023.ipynb\" target=\"_parent\"><img src=\"https://colab.research.google.com/assets/colab-badge.svg\" alt=\"Open In Colab\"/></a>"
      ]
    },
    {
      "cell_type": "markdown",
      "source": [
        "**MUTATIONS**\n",
        "\n",
        "Example\n",
        "\n",
        ">>> string = \"abracadabra\"\n",
        "\n",
        ">>> l = list(string)\n",
        "\n",
        ">>> l[5] = 'k'\n",
        "\n",
        ">>> string = ''.join(l)\n",
        "\n",
        ">>> print string\n",
        "\n",
        "abrackdabra\n",
        "\n",
        "Another approach is to slice the string and join it back.\n",
        "Example\n",
        "\n",
        ">>> string = string[:5] + \"k\" + string[6:]\n",
        "\n",
        ">>> print string\n",
        "\n",
        "abrackdabra\n"
      ],
      "metadata": {
        "id": "bkiOJRXogY4d"
      }
    },
    {
      "cell_type": "code",
      "execution_count": null,
      "metadata": {
        "colab": {
          "base_uri": "https://localhost:8080/"
        },
        "id": "hhA5QDmFdmrn",
        "outputId": "481f2bab-ab6e-4db6-853e-c12d222ad04e"
      },
      "outputs": [
        {
          "output_type": "stream",
          "name": "stdout",
          "text": [
            "abracadabra\n",
            "5 k\n",
            "abrackdabra\n"
          ]
        }
      ],
      "source": [
        "def mutate_string(string, position, character):\n",
        "    return string[:position] + character + string[position + 1:]\n",
        "\n",
        "if __name__ == '__main__':\n",
        "    s = input()  # input string\n",
        "    i, c = input().split()  # input position then character\n",
        "    s_new = mutate_string(s, int(i), c)\n",
        "    print(s_new)"
      ]
    },
    {
      "cell_type": "code",
      "source": [
        "def mutate_string(string, posisi, karakter):\n",
        "    return string[:posisi] + karakter + string[posisi + 1:]\n",
        "\n",
        "if __name__ == '__main__':\n",
        "    s = input()  # input string\n",
        "    i, c = input().split()  # input position then character\n",
        "    s_new = mutate_string(s, int(i), c)\n",
        "    print(s_new)"
      ],
      "metadata": {
        "colab": {
          "base_uri": "https://localhost:8080/"
        },
        "id": "Od5T1CFViTyl",
        "outputId": "7b996341-5c99-487d-fb5e-a900e545c268"
      },
      "execution_count": null,
      "outputs": [
        {
          "output_type": "stream",
          "name": "stdout",
          "text": [
            "SARAGIH\n",
            "4 U\n",
            "SARAUIH\n"
          ]
        }
      ]
    },
    {
      "cell_type": "markdown",
      "source": [
        "**STRING VALIDATORS**"
      ],
      "metadata": {
        "id": "Kja7xQp-oiAp"
      }
    },
    {
      "cell_type": "code",
      "source": [
        "if __name__ == '__main__':\n",
        "    s = input()\n",
        "    list = [i.isalnum() for i in s]\n",
        "    print(list)"
      ],
      "metadata": {
        "colab": {
          "base_uri": "https://localhost:8080/"
        },
        "id": "KQuX7uXGokiY",
        "outputId": "196ce006-6d40-4f92-ce5c-3115cdcfa1c7"
      },
      "execution_count": null,
      "outputs": [
        {
          "output_type": "stream",
          "name": "stdout",
          "text": [
            "qA2\n",
            "[True, True, True]\n"
          ]
        }
      ]
    },
    {
      "cell_type": "code",
      "source": [
        "if __name__ == '__main__':\n",
        "    s = input()\n",
        "    list = [i.isalnum() for i in s]\n",
        "    print(any(list))"
      ],
      "metadata": {
        "colab": {
          "base_uri": "https://localhost:8080/"
        },
        "id": "_iQ_N_uroyQA",
        "outputId": "5502b808-939b-4efb-c960-7da8efd5ef07"
      },
      "execution_count": null,
      "outputs": [
        {
          "output_type": "stream",
          "name": "stdout",
          "text": [
            "qA2\n",
            "True\n"
          ]
        }
      ]
    },
    {
      "cell_type": "code",
      "source": [
        "if __name__ == '__main__':\n",
        "    s = input(f\"Masukan input :\")\n",
        "    print(any([i.isalnum() for i in s]))\n",
        "    print(any([i.isalpha() for i in s]))\n",
        "    print(any([i.isdigit() for i in s]))\n",
        "    print(any([i.islower() for i in s]))\n",
        "    print(any([i.isupper() for i in s]))"
      ],
      "metadata": {
        "colab": {
          "base_uri": "https://localhost:8080/"
        },
        "id": "y3CrLjqfpX7Z",
        "outputId": "2c3929ee-93ae-4e19-f96d-78363695b97b"
      },
      "execution_count": null,
      "outputs": [
        {
          "output_type": "stream",
          "name": "stdout",
          "text": [
            "Masukan input :qA2\n",
            "True\n",
            "True\n",
            "True\n",
            "True\n",
            "True\n"
          ]
        }
      ]
    },
    {
      "cell_type": "markdown",
      "source": [
        "**TEXT ALIGNMENT**"
      ],
      "metadata": {
        "id": "bkAbvUj71V1e"
      }
    },
    {
      "cell_type": "code",
      "source": [
        "thickness = int(input()) #This must be an odd number\n",
        "c = 'H'\n",
        "\n",
        "#Top Cone\n",
        "for i in range(thickness):\n",
        "    print((c*i).rjust(thickness-1)+c+(c*i).ljust(thickness-1))\n",
        "\n",
        "#Top Pillars\n",
        "for i in range(thickness+1):\n",
        "    print((c*thickness).center(thickness*2)+(c*thickness).center(thickness*6))\n",
        "\n",
        "#Middle Belt\n",
        "for i in range((thickness+1)//2):\n",
        "    print((c*thickness*5).center(thickness*6))\n",
        "\n",
        "#Bottom Pillars\n",
        "for i in range(thickness+1):\n",
        "    print((c*thickness).center(thickness*2)+(c*thickness).center(thickness*6))\n",
        "\n",
        "#Bottom Cone\n",
        "for i in range(thickness):\n",
        "    print(((c*(thickness-i-1)).rjust(thickness)+c+(c*(thickness-i-1)).ljust(thickness)).rjust(thickness*6))"
      ],
      "metadata": {
        "colab": {
          "base_uri": "https://localhost:8080/"
        },
        "id": "w0SO4BTwpZCn",
        "outputId": "8da71c15-5055-41f2-af58-92ca3951efd8"
      },
      "execution_count": null,
      "outputs": [
        {
          "output_type": "stream",
          "name": "stdout",
          "text": [
            "5\n",
            "    H    \n",
            "   HHH   \n",
            "  HHHHH  \n",
            " HHHHHHH \n",
            "HHHHHHHHH\n",
            "  HHHHH               HHHHH             \n",
            "  HHHHH               HHHHH             \n",
            "  HHHHH               HHHHH             \n",
            "  HHHHH               HHHHH             \n",
            "  HHHHH               HHHHH             \n",
            "  HHHHH               HHHHH             \n",
            "  HHHHHHHHHHHHHHHHHHHHHHHHH   \n",
            "  HHHHHHHHHHHHHHHHHHHHHHHHH   \n",
            "  HHHHHHHHHHHHHHHHHHHHHHHHH   \n",
            "  HHHHH               HHHHH             \n",
            "  HHHHH               HHHHH             \n",
            "  HHHHH               HHHHH             \n",
            "  HHHHH               HHHHH             \n",
            "  HHHHH               HHHHH             \n",
            "  HHHHH               HHHHH             \n",
            "                    HHHHHHHHH \n",
            "                     HHHHHHH  \n",
            "                      HHHHH   \n",
            "                       HHH    \n",
            "                        H     \n"
          ]
        }
      ]
    },
    {
      "cell_type": "markdown",
      "source": [
        "**TEXT WRAP**"
      ],
      "metadata": {
        "id": "6eILXR0o2GaH"
      }
    },
    {
      "cell_type": "code",
      "source": [
        "import textwrap\n",
        "\n",
        "def wrap(string, max_width):\n",
        "    return textwrap.fill(string, max_width)\n",
        "\n",
        "if __name__ == '__main__':\n",
        "    string, max_width = input(\"Masukan string :\"), int(input(\"Masukan max_width : \"))\n",
        "    result = wrap(string, max_width)\n",
        "    print(result)"
      ],
      "metadata": {
        "colab": {
          "base_uri": "https://localhost:8080/"
        },
        "id": "xPoiWuHG2IPQ",
        "outputId": "25052410-373f-42b4-d72f-1cb5360bfdce"
      },
      "execution_count": null,
      "outputs": [
        {
          "output_type": "stream",
          "name": "stdout",
          "text": [
            "Masukan string :ABCDEFGHIJKLIMNOQRSTUVWXYZ\n",
            "Masukan max_width : 4\n",
            "ABCD\n",
            "EFGH\n",
            "IJKL\n",
            "IMNO\n",
            "QRST\n",
            "UVWX\n",
            "YZ\n"
          ]
        }
      ]
    },
    {
      "cell_type": "markdown",
      "source": [
        "**DESIGNER DOOR MAT**"
      ],
      "metadata": {
        "id": "M1Y174ByDnze"
      }
    },
    {
      "cell_type": "code",
      "source": [
        "R, C = input(\"Masukan input : \").split(' ')\n",
        "\n",
        "print(R, C)"
      ],
      "metadata": {
        "id": "q53G9gI62JTV",
        "colab": {
          "base_uri": "https://localhost:8080/"
        },
        "outputId": "a28e615c-7bdb-4762-8e67-4d731a0fedd6"
      },
      "execution_count": 10,
      "outputs": [
        {
          "output_type": "stream",
          "name": "stdout",
          "text": [
            "Masukan input : 5 15\n",
            "5 15\n"
          ]
        }
      ]
    },
    {
      "cell_type": "code",
      "source": [
        "R, C = map(int, input(\"Masukan input : \").split(' '))\n",
        "\n",
        "print(R, C)"
      ],
      "metadata": {
        "colab": {
          "base_uri": "https://localhost:8080/"
        },
        "id": "DnCAp7gMEI8s",
        "outputId": "68138e7b-73a3-41c0-8c30-c9117512cd8a"
      },
      "execution_count": 11,
      "outputs": [
        {
          "output_type": "stream",
          "name": "stdout",
          "text": [
            "Masukan input : 5 15\n",
            "5 15\n"
          ]
        }
      ]
    },
    {
      "cell_type": "code",
      "source": [
        "R, C = map(int, input(\"Masukan input : \").split(' '))\n",
        "\n",
        "for i in range (1, R, 2):\n",
        "  print(\".|.\" * i)\n"
      ],
      "metadata": {
        "colab": {
          "base_uri": "https://localhost:8080/"
        },
        "id": "F_q4Sj3oE8wP",
        "outputId": "8f9b6ac6-008d-4fe4-f97b-0127e7068d66"
      },
      "execution_count": 12,
      "outputs": [
        {
          "output_type": "stream",
          "name": "stdout",
          "text": [
            "Masukan input : 5 15\n",
            ".|.\n",
            ".|..|..|.\n"
          ]
        }
      ]
    },
    {
      "cell_type": "code",
      "source": [
        "R, C = map(int, input(\"Masukan input : \").split(' '))\n",
        "\n",
        "for i in range (1, R, 2):\n",
        "  print((\".|.\" * i). center(C, \"-\"))"
      ],
      "metadata": {
        "colab": {
          "base_uri": "https://localhost:8080/"
        },
        "id": "wXKAigVVFGNI",
        "outputId": "e077fc4d-a6d1-4e3b-fd2b-88b26e70480d"
      },
      "execution_count": 13,
      "outputs": [
        {
          "output_type": "stream",
          "name": "stdout",
          "text": [
            "Masukan input : 5 15\n",
            "------.|.------\n",
            "---.|..|..|.---\n"
          ]
        }
      ]
    },
    {
      "cell_type": "code",
      "source": [
        "R, C = map(int, input(\"Masukan input : \").split(' '))\n",
        "\n",
        "for i in range (1, R, 2):\n",
        "  print((\".|.\" * i). center(C, \"-\"))\n",
        "\n",
        "print(\"WELCOME\". center(C, \"-\"))"
      ],
      "metadata": {
        "colab": {
          "base_uri": "https://localhost:8080/"
        },
        "id": "U1OtnmUMF07E",
        "outputId": "8b9d37e4-53b3-4027-e657-cb260db52e56"
      },
      "execution_count": 14,
      "outputs": [
        {
          "output_type": "stream",
          "name": "stdout",
          "text": [
            "Masukan input : 5 15\n",
            "------.|.------\n",
            "---.|..|..|.---\n",
            "----WELCOME----\n"
          ]
        }
      ]
    },
    {
      "cell_type": "code",
      "source": [
        "R, C = map(int, input(\"Masukan input : \\n\").split(' '))   # R = Row, C = Column\n",
        "\n",
        "for i in range (1, R, 2):\n",
        "  print((\".|.\" * i). center(C, \"-\"))\n",
        "\n",
        "print(\"WELCOME\". center(C, \"-\"))\n",
        "\n",
        "for i in range (R-2, -1, -2):\n",
        "  print((\".|.\" * i). center(C, \"-\"))"
      ],
      "metadata": {
        "colab": {
          "base_uri": "https://localhost:8080/"
        },
        "id": "wmeUyZ0rG3Wy",
        "outputId": "f6f3cc6e-bbf3-47ad-c9dd-75f4e71154d2"
      },
      "execution_count": 17,
      "outputs": [
        {
          "output_type": "stream",
          "name": "stdout",
          "text": [
            "Masukan input : \n",
            "5 15\n",
            "------.|.------\n",
            "---.|..|..|.---\n",
            "----WELCOME----\n",
            "---.|..|..|.---\n",
            "------.|.------\n"
          ]
        }
      ]
    },
    {
      "cell_type": "markdown",
      "source": [
        "**STRING FORMATTING**"
      ],
      "metadata": {
        "id": "5ufGxeX3Kl9F"
      }
    },
    {
      "cell_type": "code",
      "source": [
        "def print_formatted(number):\n",
        "    w = len (\"{0:b}\".format(number))\n",
        "\n",
        "    for i in range (1, number+1):\n",
        "        print(\"{0:{w}d} {0:{w}o} {0:{w}X} {0:{w}b}\".format(i, w = w))\n",
        "\n",
        "if __name__ == '__main__':\n",
        "    n = int(input())\n",
        "    print_formatted(n)"
      ],
      "metadata": {
        "colab": {
          "base_uri": "https://localhost:8080/"
        },
        "id": "6v-nygxAKowd",
        "outputId": "932c1334-410a-4036-b78e-2701cf4e6ed8"
      },
      "execution_count": 18,
      "outputs": [
        {
          "output_type": "stream",
          "name": "stdout",
          "text": [
            "17\n",
            "    1     1     1     1\n",
            "    2     2     2    10\n",
            "    3     3     3    11\n",
            "    4     4     4   100\n",
            "    5     5     5   101\n",
            "    6     6     6   110\n",
            "    7     7     7   111\n",
            "    8    10     8  1000\n",
            "    9    11     9  1001\n",
            "   10    12     A  1010\n",
            "   11    13     B  1011\n",
            "   12    14     C  1100\n",
            "   13    15     D  1101\n",
            "   14    16     E  1110\n",
            "   15    17     F  1111\n",
            "   16    20    10 10000\n",
            "   17    21    11 10001\n"
          ]
        }
      ]
    }
  ]
}