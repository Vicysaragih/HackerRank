{
  "nbformat": 4,
  "nbformat_minor": 0,
  "metadata": {
    "colab": {
      "provenance": [],
      "authorship_tag": "ABX9TyMfJq8+sVkGva7fc3G9ABf2",
      "include_colab_link": true
    },
    "kernelspec": {
      "name": "python3",
      "display_name": "Python 3"
    },
    "language_info": {
      "name": "python"
    }
  },
  "cells": [
    {
      "cell_type": "markdown",
      "metadata": {
        "id": "view-in-github",
        "colab_type": "text"
      },
      "source": [
        "<a href=\"https://colab.research.google.com/github/Vicysaragih/HackerRank/blob/main/HackerRank_14_November_2023.ipynb\" target=\"_parent\"><img src=\"https://colab.research.google.com/assets/colab-badge.svg\" alt=\"Open In Colab\"/></a>"
      ]
    },
    {
      "cell_type": "markdown",
      "source": [
        "**FINDING THE PERCENTAGE**"
      ],
      "metadata": {
        "id": "MzAMSFFAkQ1I"
      }
    },
    {
      "cell_type": "markdown",
      "source": [
        "**Constraints**\n",
        "\n",
        "Output Format\n",
        "\n",
        "Print one line: The average of the marks obtained by the particular student correct to 2 decimal places.\n",
        "\n",
        "**Sample Input 0**\n",
        "\n",
        "3\n",
        "\n",
        "Krishna 67 68 69\n",
        "\n",
        "Arjun 70 98 63\n",
        "\n",
        "Malika 52 56 60\n",
        "\n",
        "Malika\n",
        "\n",
        "\n",
        "**Sample Output 0**\n",
        "\n",
        "56.00"
      ],
      "metadata": {
        "id": "8z9hLdKikXAs"
      }
    },
    {
      "cell_type": "code",
      "source": [
        "name,*line = input().split()\n",
        "print(\"name:\", name)\n",
        "print(\"line :\", line)"
      ],
      "metadata": {
        "colab": {
          "base_uri": "https://localhost:8080/"
        },
        "id": "H840hiPBkV4U",
        "outputId": "f08d9efb-737c-4ccd-8a5a-e224728378ca"
      },
      "execution_count": 6,
      "outputs": [
        {
          "output_type": "stream",
          "name": "stdout",
          "text": [
            "VICY 80 78 90\n",
            "name: VICY\n",
            "line : ['80', '78', '90']\n"
          ]
        }
      ]
    },
    {
      "cell_type": "code",
      "execution_count": 8,
      "metadata": {
        "colab": {
          "base_uri": "https://localhost:8080/"
        },
        "id": "836saCSBkIGd",
        "outputId": "cf48cfd9-dcfc-4c63-dfa7-45c67c399b9f"
      },
      "outputs": [
        {
          "output_type": "stream",
          "name": "stdout",
          "text": [
            "3\n",
            "BADU 45 67 90\n",
            "BEDU 78 90 89\n",
            "BUDI 56 78 45\n",
            "BEDU\n",
            "Average adalah 85.67\n"
          ]
        }
      ],
      "source": [
        "if __name__ == '__main__':\n",
        "    n = int(input())\n",
        "    student_marks = {}\n",
        "    for _ in range(n):\n",
        "        name, *line = input().split()\n",
        "        scores = list(map(float, line))\n",
        "        student_marks[name] = scores\n",
        "    query_name = input()\n",
        "    marks = student_marks[query_name]\n",
        "\n",
        "    #format (value, '.nf')\n",
        "    print(\"Average adalah\", format(sum(marks)/3, '.2f'))\n",
        ""
      ]
    },
    {
      "cell_type": "markdown",
      "source": [
        "**TUPLES**\n",
        "\n",
        "**Task**\n",
        "Given an integer, , and  space-separated integers as input, create a tuple, , of those  integers. Then compute and print the result of .\n",
        "\n",
        "Note: hash() is one of the functions in the __builtins__ module, so it need not be imported."
      ],
      "metadata": {
        "id": "7QICLihcoZKF"
      }
    },
    {
      "cell_type": "markdown",
      "source": [
        "**Input Format**\n",
        "\n",
        "The first line contains an integer, , denoting the number of elements in the tuple.\n",
        "The second line contains  space-separated integers describing the elements in tuple .\n",
        "\n",
        "**Output Format**\n",
        "\n",
        "Print the result of .\n",
        "\n",
        "**Sample Input 0**\n",
        "\n",
        "2\n",
        "1 2\n",
        "\n",
        "**Sample Output 0**\n",
        "\n",
        "3713081631934410656"
      ],
      "metadata": {
        "id": "GppNIXPzolmz"
      }
    },
    {
      "cell_type": "code",
      "source": [
        "n = int(input())\n",
        "t = tuple(map(int,input().split()))\n",
        "print(\"Hashing Values : \", 1hash(t))"
      ],
      "metadata": {
        "colab": {
          "base_uri": "https://localhost:8080/"
        },
        "id": "9BykF2C_rMst",
        "outputId": "2315327e-f6b8-42c7-c6db-b97079b1cb39"
      },
      "execution_count": 10,
      "outputs": [
        {
          "output_type": "stream",
          "name": "stdout",
          "text": [
            "2\n",
            "1 2\n",
            "Hashing Values :  -3550055125485641917\n"
          ]
        }
      ]
    },
    {
      "cell_type": "markdown",
      "source": [
        "Hashing is implementation specific, and the value of a hash function has no meaning for the user. The only guarantee is that within the same Python running process, two equal objects should have the same hash value. The value might be different not only between different Python versions, but also with the same Python version if you run the program many times, or with different Python implementation, or with different CPU architecture, etc."
      ],
      "metadata": {
        "id": "EFRdMYGur71e"
      }
    },
    {
      "cell_type": "code",
      "source": [
        "#Pypy 3\n",
        "if __name__ == '__main__':\n",
        "    n = int(input())\n",
        "    integer_list = map(int, input().split())\n",
        "    t = tuple(integer_list)\n",
        "    print(hash(t))"
      ],
      "metadata": {
        "colab": {
          "base_uri": "https://localhost:8080/"
        },
        "id": "kbZUNxw1sUhY",
        "outputId": "719bbc2d-a8d4-40d3-aec4-438b264a4a15"
      },
      "execution_count": 11,
      "outputs": [
        {
          "output_type": "stream",
          "name": "stdout",
          "text": [
            "2\n",
            "1 2\n",
            "-3550055125485641917\n"
          ]
        }
      ]
    },
    {
      "cell_type": "markdown",
      "source": [
        "**SWAP CASE**"
      ],
      "metadata": {
        "id": "oj-ssQgKxt-t"
      }
    },
    {
      "cell_type": "code",
      "source": [
        "def swap_case(s):\n",
        "    x = \"\"\n",
        "    for c in s :\n",
        "        if c.isupper():\n",
        "            c = c.lower()\n",
        "        else :\n",
        "            c = c.upper()\n",
        "        x += \"\".join(c)\n",
        "    return x\n",
        "\n",
        "if __name__ == '__main__':\n",
        "    s = input()\n",
        "    result = swap_case(s)\n",
        "    print(\"result:\", result)"
      ],
      "metadata": {
        "colab": {
          "base_uri": "https://localhost:8080/"
        },
        "id": "p2OEM2ODxwoK",
        "outputId": "91f373e5-3791-4f0e-ab9d-a106833ebd4d"
      },
      "execution_count": 14,
      "outputs": [
        {
          "output_type": "stream",
          "name": "stdout",
          "text": [
            "HackerRank.com presents \"Pythonist 2\".\n",
            "result: hACKERrANK.COM PRESENTS \"pYTHONIST 2\".\n"
          ]
        }
      ]
    },
    {
      "cell_type": "markdown",
      "source": [
        "**String Split and Join**"
      ],
      "metadata": {
        "id": "v9Pque8J1iPq"
      }
    },
    {
      "cell_type": "code",
      "source": [
        "def split_and_join(line):\n",
        "    a = line.split() #default return a list\n",
        "    x = \"-\".join(a)\n",
        "    return x\n",
        "\n",
        "if __name__ == '__main__':\n",
        "    line = input()\n",
        "    result = split_and_join(line)\n",
        "    print(result)"
      ],
      "metadata": {
        "colab": {
          "base_uri": "https://localhost:8080/"
        },
        "id": "4HxHUOGg1fbN",
        "outputId": "2515af4b-5dbe-42fa-a692-09500ed4752a"
      },
      "execution_count": 15,
      "outputs": [
        {
          "output_type": "stream",
          "name": "stdout",
          "text": [
            "this is a string\n",
            "this-is-a-string\n"
          ]
        }
      ]
    }
  ]
}